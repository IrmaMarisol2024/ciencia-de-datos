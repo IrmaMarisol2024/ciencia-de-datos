{
  "metadata": {
    "kernelspec": {
      "name": "python",
      "display_name": "Python (Pyodide)",
      "language": "python"
    },
    "language_info": {
      "codemirror_mode": {
        "name": "python",
        "version": 3
      },
      "file_extension": ".py",
      "mimetype": "text/x-python",
      "name": "python",
      "nbconvert_exporter": "python",
      "pygments_lexer": "ipython3",
      "version": "3.8"
    }
  },
  "nbformat_minor": 4,
  "nbformat": 4,
  "cells": [
    {
      "cell_type": "markdown",
      "source": "# Herramientas y ecosistema de ciencia de datos",
      "metadata": {}
    },
    {
      "cell_type": "markdown",
      "source": "En este cuaderno, se resumen las herramientas de ciencia de datos y el ecosistema.",
      "metadata": {}
    },
    {
      "cell_type": "markdown",
      "source": "Algunos de los lenguajes más populares que utilizan los científicos de datos son:\n\n1. **Python**: Un lenguaje versátil y fácil de aprender, ideal para análisis de datos, visualización y aprendizaje automático. Tiene bibliotecas como Pandas, NumPy y scikit-learn.\n  \n2. **R**: Diseñado específicamente para la estadística y el análisis de datos. Es muy utilizado en investigación y academia, con potentes paquetes como ggplot2 para visualización.\n  \n3. **SQL**: Un lenguaje de consulta estructurado utilizado para gestionar y manipular bases de datos. Permite a los científicos de datos extraer y gestionar datos de manera eficiente.\n\n4. **Julia**: Un lenguaje de alto rendimiento para la computación técnica y científica. Es particularmente fuerte en el procesamiento numérico y es ideal para tareas que requieren velocidad.\n\n5. **Scala**: Un lenguaje que combina programación funcional y orientada a objetos, utilizado principalmente en entornos de big data con Apache Spark para el procesamiento de datos.\n\n6. **MATLAB**: Utilizado principalmente en entornos académicos y de ingeniería, MATLAB es potente para el análisis numérico y la visualización de datos.\n\n7. **SAS**: Un software de análisis avanzado que es ampliamente utilizado en el sector empresarial para análisis estadístico y gestión de datos.\n\n8. **Java**: Aunque no es específico para ciencia de datos, Java se utiliza en el desarrollo de aplicaciones y sistemas que manejan grandes volúmenes de datos.\n\n9. **Go**: Un lenguaje de programación que ha ganado popularidad por su eficiencia y facilidad para trabajar con aplicaciones concurrentes, ideal para sistemas de datos en tiempo real.",
      "metadata": {}
    },
    {
      "cell_type": "markdown",
      "source": "Algunas de las bibliotecas más utilizadas por los científicos de datos son:\n\n1. **Pandas**: Una biblioteca esencial para la manipulación y el análisis de datos en Python. Proporciona estructuras de datos flexibles como DataFrames, lo que facilita el manejo de datos tabulares.\n\n2. **NumPy**: Una biblioteca fundamental para la computación científica en Python. Ofrece soporte para arreglos y matrices, junto con funciones matemáticas de alto rendimiento.\n\n3. **Matplotlib**: Una biblioteca de visualización de datos en Python que permite crear gráficos estáticos, animados e interactivos de manera sencilla. Es especialmente útil para visualizaciones personalizadas.\n\n4. **Scikit-learn**: Una biblioteca poderosa para el aprendizaje automático en Python. Proporciona herramientas simples y eficientes para la minería de datos y el análisis de datos, con algoritmos para clasificación, regresión y agrupación.\n\n5. **TensorFlow**: Una biblioteca de código abierto para el aprendizaje profundo y la inteligencia artificial. Desarrollada por Google, es utilizada para construir y entrenar modelos de aprendizaje profundo de alta complejidad.\n\n6. **Keras**: Una API de alto nivel para construir y entrenar modelos de aprendizaje profundo. Se integra bien con TensorFlow y es ideal para prototipado rápido de redes neuronales.\n\n7. **Seaborn**: Basada en Matplotlib, esta biblioteca se utiliza para realizar visualizaciones estadísticas más atractivas y informativas, facilitando la exploración de datos.",
      "metadata": {}
    },
    {
      "cell_type": "markdown",
      "source": "| Herramientas de ciencia de datos |\n|----------------------------------|\n| Jupyter Notebook                 |\n| RStudio                          |\n| Apache Zeppelin                  |\n| Orange                           |\n| Knime                            |\n| Apache Spark                     |\n| TensorFlow                       |\n| Scikit-learn                     |",
      "metadata": {}
    },
    {
      "cell_type": "markdown",
      "source": "### A continuación se muestran algunos ejemplos de evaluación de expresiones aritméticas en Python.\n\n1. Suma: `3 + 5`  → Resultado: `8`\n2. Resta: `10 - 4`  → Resultado: `6`\n3. Multiplicación: `7 * 6`  → Resultado: `42`\n4. División: `20 / 4`  → Resultado: `5.0`\n5. Potenciación: `2 ** 3`  → Resultado: `8`\n6. Módulo: `10 % 3`  → Resultado: `1`\n7. Suma con flotantes: `2.5 + 3.5`  → Resultado: `6.0`\n8. División entera: `10 // 3`  → Resultado: `3`\n9. Raíz cuadrada: `16 ** 0.5`  → Resultado: `4.0`\n10. Incremento: `x = 5; x += 2`  → Resultado: `7` (donde x es 5 antes de la operación)\n11. Decremento: `y = 10; y -= 3`  → Resultado: `7` (donde y es 10 antes de la operación)\n12. Producto de suma: `4 * (3 + 2)`  → Resultado: `20`",
      "metadata": {}
    },
    {
      "cell_type": "code",
      "source": "# Esta es una expresión aritmética simple para multiplicar y luego sumar números enteros.\nresultado = (3 * 4) + 5\nresultado",
      "metadata": {
        "trusted": true
      },
      "outputs": [
        {
          "execution_count": 1,
          "output_type": "execute_result",
          "data": {
            "text/plain": "17"
          },
          "metadata": {}
        }
      ],
      "execution_count": 1
    },
    {
      "cell_type": "code",
      "source": "# Esto convertirá 200 minutos en horas al dividir entre 60.\nminutos = 200\nhoras = minutos / 60\nhoras",
      "metadata": {
        "trusted": true
      },
      "outputs": [
        {
          "execution_count": 2,
          "output_type": "execute_result",
          "data": {
            "text/plain": "3.3333333333333335"
          },
          "metadata": {}
        }
      ],
      "execution_count": 2
    },
    {
      "cell_type": "markdown",
      "source": "**Objetivos:**\n\n- Introducción a la ciencia de datos y su importancia.\n- Lista de lenguajes populares para la ciencia de datos.\n- Evaluación de expresiones aritméticas en Python.\n- Conversión de unidades, como minutos a horas.\n- Uso de herramientas de código abierto para ciencia de datos.\n- Comprensión de la manipulación de datos con bibliotecas como Pandas.\n- Visualización de datos utilizando herramientas como Matplotlib y Seaborn.\n- Aplicación de técnicas de machine learning básicas.",
      "metadata": {}
    },
    {
      "cell_type": "markdown",
      "source": "## Autor\n\nIrma Marisol Correa Barrera",
      "metadata": {}
    }
  ]
}